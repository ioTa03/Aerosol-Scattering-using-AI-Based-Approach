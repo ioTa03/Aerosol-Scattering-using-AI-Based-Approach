{
  "nbformat": 4,
  "nbformat_minor": 0,
  "metadata": {
    "colab": {
      "provenance": []
    },
    "kernelspec": {
      "name": "python3",
      "display_name": "Python 3"
    },
    "language_info": {
      "name": "python"
    },
    "widgets": {
      "application/vnd.jupyter.widget-state+json": {
        "ff54428a8f0847079662384bd1b65e3e": {
          "model_module": "@jupyter-widgets/controls",
          "model_name": "VBoxModel",
          "model_module_version": "1.5.0",
          "state": {
            "_dom_classes": [],
            "_model_module": "@jupyter-widgets/controls",
            "_model_module_version": "1.5.0",
            "_model_name": "VBoxModel",
            "_view_count": null,
            "_view_module": "@jupyter-widgets/controls",
            "_view_module_version": "1.5.0",
            "_view_name": "VBoxView",
            "box_style": "",
            "children": [
              "IPY_MODEL_66c181e01a1242399de09e9af8e504bf",
              "IPY_MODEL_31026ca9976b44e285168620f049af73",
              "IPY_MODEL_4db2c3e1483b48e2b2cab73f8435133b",
              "IPY_MODEL_33b676fb3f8f4b5ba83ad4511493a702",
              "IPY_MODEL_af0d6ab420d34cf29b94464b54ca6fd0",
              "IPY_MODEL_dbf285dbc03649c483305c635c688708",
              "IPY_MODEL_5a60d488075944d1a9cf3dc0db67d953"
            ],
            "layout": "IPY_MODEL_4e557faaf4284d43bcca451963989482"
          }
        },
        "66c181e01a1242399de09e9af8e504bf": {
          "model_module": "@jupyter-widgets/controls",
          "model_name": "BoxModel",
          "model_module_version": "1.5.0",
          "state": {
            "_dom_classes": [],
            "_model_module": "@jupyter-widgets/controls",
            "_model_module_version": "1.5.0",
            "_model_name": "BoxModel",
            "_view_count": null,
            "_view_module": "@jupyter-widgets/controls",
            "_view_module_version": "1.5.0",
            "_view_name": "BoxView",
            "box_style": "",
            "children": [
              "IPY_MODEL_ac6d0df90e2141be889f7999b95c50fe"
            ],
            "layout": "IPY_MODEL_6a4bce872707448aaea2a3fca1d8aa28"
          }
        },
        "31026ca9976b44e285168620f049af73": {
          "model_module": "@jupyter-widgets/controls",
          "model_name": "BoxModel",
          "model_module_version": "1.5.0",
          "state": {
            "_dom_classes": [],
            "_model_module": "@jupyter-widgets/controls",
            "_model_module_version": "1.5.0",
            "_model_name": "BoxModel",
            "_view_count": null,
            "_view_module": "@jupyter-widgets/controls",
            "_view_module_version": "1.5.0",
            "_view_name": "BoxView",
            "box_style": "",
            "children": [
              "IPY_MODEL_2d33817008314021b46eef63c6f1a6b0"
            ],
            "layout": "IPY_MODEL_99fbc5cf93c94ea4affa8a309ba60f69"
          }
        },
        "4db2c3e1483b48e2b2cab73f8435133b": {
          "model_module": "@jupyter-widgets/controls",
          "model_name": "BoxModel",
          "model_module_version": "1.5.0",
          "state": {
            "_dom_classes": [],
            "_model_module": "@jupyter-widgets/controls",
            "_model_module_version": "1.5.0",
            "_model_name": "BoxModel",
            "_view_count": null,
            "_view_module": "@jupyter-widgets/controls",
            "_view_module_version": "1.5.0",
            "_view_name": "BoxView",
            "box_style": "",
            "children": [
              "IPY_MODEL_e17eb0862b6f49208cd7611d41b06e37"
            ],
            "layout": "IPY_MODEL_db17c8a1477a4841992a18b6362c1a86"
          }
        },
        "33b676fb3f8f4b5ba83ad4511493a702": {
          "model_module": "@jupyter-widgets/controls",
          "model_name": "BoxModel",
          "model_module_version": "1.5.0",
          "state": {
            "_dom_classes": [],
            "_model_module": "@jupyter-widgets/controls",
            "_model_module_version": "1.5.0",
            "_model_name": "BoxModel",
            "_view_count": null,
            "_view_module": "@jupyter-widgets/controls",
            "_view_module_version": "1.5.0",
            "_view_name": "BoxView",
            "box_style": "",
            "children": [
              "IPY_MODEL_3d1a88e0b6904e9e88674f4841ced697"
            ],
            "layout": "IPY_MODEL_7bccba4344f340eb83555d459f18d217"
          }
        },
        "af0d6ab420d34cf29b94464b54ca6fd0": {
          "model_module": "@jupyter-widgets/controls",
          "model_name": "BoxModel",
          "model_module_version": "1.5.0",
          "state": {
            "_dom_classes": [],
            "_model_module": "@jupyter-widgets/controls",
            "_model_module_version": "1.5.0",
            "_model_name": "BoxModel",
            "_view_count": null,
            "_view_module": "@jupyter-widgets/controls",
            "_view_module_version": "1.5.0",
            "_view_name": "BoxView",
            "box_style": "",
            "children": [
              "IPY_MODEL_ed6b789674c541b1b24711293f52f84a"
            ],
            "layout": "IPY_MODEL_984d9bf670f044f2be7d3466f49e3cd9"
          }
        },
        "dbf285dbc03649c483305c635c688708": {
          "model_module": "@jupyter-widgets/controls",
          "model_name": "ButtonModel",
          "model_module_version": "1.5.0",
          "state": {
            "_dom_classes": [],
            "_model_module": "@jupyter-widgets/controls",
            "_model_module_version": "1.5.0",
            "_model_name": "ButtonModel",
            "_view_count": null,
            "_view_module": "@jupyter-widgets/controls",
            "_view_module_version": "1.5.0",
            "_view_name": "ButtonView",
            "button_style": "",
            "description": "Update Values",
            "disabled": false,
            "icon": "",
            "layout": "IPY_MODEL_2034803171e74fdca36d3086316e3e80",
            "style": "IPY_MODEL_3300c455f2e24e578a52d50080fb668a",
            "tooltip": ""
          }
        },
        "5a60d488075944d1a9cf3dc0db67d953": {
          "model_module": "@jupyter-widgets/output",
          "model_name": "OutputModel",
          "model_module_version": "1.0.0",
          "state": {
            "_dom_classes": [],
            "_model_module": "@jupyter-widgets/output",
            "_model_module_version": "1.0.0",
            "_model_name": "OutputModel",
            "_view_count": null,
            "_view_module": "@jupyter-widgets/output",
            "_view_module_version": "1.0.0",
            "_view_name": "OutputView",
            "layout": "IPY_MODEL_132b45dd167b493a99b2f99d09c7d443",
            "msg_id": "",
            "outputs": [
              {
                "output_type": "display_data",
                "data": {
                  "text/plain": "      angle      parallel  perpendicular   unpolarized\n0       0.0  3.685503e-22   3.685503e-22  3.685503e-22\n1       0.1  3.685492e-22   3.685503e-22  3.685497e-22\n2       0.2  3.685458e-22   3.685503e-22  3.685480e-22\n3       0.3  3.685402e-22   3.685503e-22  3.685452e-22\n4       0.4  3.685323e-22   3.685503e-22  3.685413e-22\n...     ...           ...            ...           ...\n1796  179.6  3.685323e-22   3.685503e-22  3.685413e-22\n1797  179.7  3.685402e-22   3.685503e-22  3.685452e-22\n1798  179.8  3.685458e-22   3.685503e-22  3.685480e-22\n1799  179.9  3.685492e-22   3.685503e-22  3.685497e-22\n1800  180.0  3.685503e-22   3.685503e-22  3.685503e-22\n\n[1801 rows x 4 columns]",
                  "text/html": "\n  <div id=\"df-07944115-7cde-44da-afa2-df3e07b77025\" class=\"colab-df-container\">\n    <div>\n<style scoped>\n    .dataframe tbody tr th:only-of-type {\n        vertical-align: middle;\n    }\n\n    .dataframe tbody tr th {\n        vertical-align: top;\n    }\n\n    .dataframe thead th {\n        text-align: right;\n    }\n</style>\n<table border=\"1\" class=\"dataframe\">\n  <thead>\n    <tr style=\"text-align: right;\">\n      <th></th>\n      <th>angle</th>\n      <th>parallel</th>\n      <th>perpendicular</th>\n      <th>unpolarized</th>\n    </tr>\n  </thead>\n  <tbody>\n    <tr>\n      <th>0</th>\n      <td>0.0</td>\n      <td>3.685503e-22</td>\n      <td>3.685503e-22</td>\n      <td>3.685503e-22</td>\n    </tr>\n    <tr>\n      <th>1</th>\n      <td>0.1</td>\n      <td>3.685492e-22</td>\n      <td>3.685503e-22</td>\n      <td>3.685497e-22</td>\n    </tr>\n    <tr>\n      <th>2</th>\n      <td>0.2</td>\n      <td>3.685458e-22</td>\n      <td>3.685503e-22</td>\n      <td>3.685480e-22</td>\n    </tr>\n    <tr>\n      <th>3</th>\n      <td>0.3</td>\n      <td>3.685402e-22</td>\n      <td>3.685503e-22</td>\n      <td>3.685452e-22</td>\n    </tr>\n    <tr>\n      <th>4</th>\n      <td>0.4</td>\n      <td>3.685323e-22</td>\n      <td>3.685503e-22</td>\n      <td>3.685413e-22</td>\n    </tr>\n    <tr>\n      <th>...</th>\n      <td>...</td>\n      <td>...</td>\n      <td>...</td>\n      <td>...</td>\n    </tr>\n    <tr>\n      <th>1796</th>\n      <td>179.6</td>\n      <td>3.685323e-22</td>\n      <td>3.685503e-22</td>\n      <td>3.685413e-22</td>\n    </tr>\n    <tr>\n      <th>1797</th>\n      <td>179.7</td>\n      <td>3.685402e-22</td>\n      <td>3.685503e-22</td>\n      <td>3.685452e-22</td>\n    </tr>\n    <tr>\n      <th>1798</th>\n      <td>179.8</td>\n      <td>3.685458e-22</td>\n      <td>3.685503e-22</td>\n      <td>3.685480e-22</td>\n    </tr>\n    <tr>\n      <th>1799</th>\n      <td>179.9</td>\n      <td>3.685492e-22</td>\n      <td>3.685503e-22</td>\n      <td>3.685497e-22</td>\n    </tr>\n    <tr>\n      <th>1800</th>\n      <td>180.0</td>\n      <td>3.685503e-22</td>\n      <td>3.685503e-22</td>\n      <td>3.685503e-22</td>\n    </tr>\n  </tbody>\n</table>\n<p>1801 rows × 4 columns</p>\n</div>\n    <div class=\"colab-df-buttons\">\n\n  <div class=\"colab-df-container\">\n    <button class=\"colab-df-convert\" onclick=\"convertToInteractive('df-07944115-7cde-44da-afa2-df3e07b77025')\"\n            title=\"Convert this dataframe to an interactive table.\"\n            style=\"display:none;\">\n\n  <svg xmlns=\"http://www.w3.org/2000/svg\" height=\"24px\" viewBox=\"0 -960 960 960\">\n    <path d=\"M120-120v-720h720v720H120Zm60-500h600v-160H180v160Zm220 220h160v-160H400v160Zm0 220h160v-160H400v160ZM180-400h160v-160H180v160Zm440 0h160v-160H620v160ZM180-180h160v-160H180v160Zm440 0h160v-160H620v160Z\"/>\n  </svg>\n    </button>\n\n  <style>\n    .colab-df-container {\n      display:flex;\n      gap: 12px;\n    }\n\n    .colab-df-convert {\n      background-color: #E8F0FE;\n      border: none;\n      border-radius: 50%;\n      cursor: pointer;\n      display: none;\n      fill: #1967D2;\n      height: 32px;\n      padding: 0 0 0 0;\n      width: 32px;\n    }\n\n    .colab-df-convert:hover {\n      background-color: #E2EBFA;\n      box-shadow: 0px 1px 2px rgba(60, 64, 67, 0.3), 0px 1px 3px 1px rgba(60, 64, 67, 0.15);\n      fill: #174EA6;\n    }\n\n    .colab-df-buttons div {\n      margin-bottom: 4px;\n    }\n\n    [theme=dark] .colab-df-convert {\n      background-color: #3B4455;\n      fill: #D2E3FC;\n    }\n\n    [theme=dark] .colab-df-convert:hover {\n      background-color: #434B5C;\n      box-shadow: 0px 1px 3px 1px rgba(0, 0, 0, 0.15);\n      filter: drop-shadow(0px 1px 2px rgba(0, 0, 0, 0.3));\n      fill: #FFFFFF;\n    }\n  </style>\n\n    <script>\n      const buttonEl =\n        document.querySelector('#df-07944115-7cde-44da-afa2-df3e07b77025 button.colab-df-convert');\n      buttonEl.style.display =\n        google.colab.kernel.accessAllowed ? 'block' : 'none';\n\n      async function convertToInteractive(key) {\n        const element = document.querySelector('#df-07944115-7cde-44da-afa2-df3e07b77025');\n        const dataTable =\n          await google.colab.kernel.invokeFunction('convertToInteractive',\n                                                    [key], {});\n        if (!dataTable) return;\n\n        const docLinkHtml = 'Like what you see? Visit the ' +\n          '<a target=\"_blank\" href=https://colab.research.google.com/notebooks/data_table.ipynb>data table notebook</a>'\n          + ' to learn more about interactive tables.';\n        element.innerHTML = '';\n        dataTable['output_type'] = 'display_data';\n        await google.colab.output.renderOutput(dataTable, element);\n        const docLink = document.createElement('div');\n        docLink.innerHTML = docLinkHtml;\n        element.appendChild(docLink);\n      }\n    </script>\n  </div>\n\n\n<div id=\"df-f0d699ed-7ba1-4dcc-bc45-3bc6bac75c09\">\n  <button class=\"colab-df-quickchart\" onclick=\"quickchart('df-f0d699ed-7ba1-4dcc-bc45-3bc6bac75c09')\"\n            title=\"Suggest charts\"\n            style=\"display:none;\">\n\n<svg xmlns=\"http://www.w3.org/2000/svg\" height=\"24px\"viewBox=\"0 0 24 24\"\n     width=\"24px\">\n    <g>\n        <path d=\"M19 3H5c-1.1 0-2 .9-2 2v14c0 1.1.9 2 2 2h14c1.1 0 2-.9 2-2V5c0-1.1-.9-2-2-2zM9 17H7v-7h2v7zm4 0h-2V7h2v10zm4 0h-2v-4h2v4z\"/>\n    </g>\n</svg>\n  </button>\n\n<style>\n  .colab-df-quickchart {\n      --bg-color: #E8F0FE;\n      --fill-color: #1967D2;\n      --hover-bg-color: #E2EBFA;\n      --hover-fill-color: #174EA6;\n      --disabled-fill-color: #AAA;\n      --disabled-bg-color: #DDD;\n  }\n\n  [theme=dark] .colab-df-quickchart {\n      --bg-color: #3B4455;\n      --fill-color: #D2E3FC;\n      --hover-bg-color: #434B5C;\n      --hover-fill-color: #FFFFFF;\n      --disabled-bg-color: #3B4455;\n      --disabled-fill-color: #666;\n  }\n\n  .colab-df-quickchart {\n    background-color: var(--bg-color);\n    border: none;\n    border-radius: 50%;\n    cursor: pointer;\n    display: none;\n    fill: var(--fill-color);\n    height: 32px;\n    padding: 0;\n    width: 32px;\n  }\n\n  .colab-df-quickchart:hover {\n    background-color: var(--hover-bg-color);\n    box-shadow: 0 1px 2px rgba(60, 64, 67, 0.3), 0 1px 3px 1px rgba(60, 64, 67, 0.15);\n    fill: var(--button-hover-fill-color);\n  }\n\n  .colab-df-quickchart-complete:disabled,\n  .colab-df-quickchart-complete:disabled:hover {\n    background-color: var(--disabled-bg-color);\n    fill: var(--disabled-fill-color);\n    box-shadow: none;\n  }\n\n  .colab-df-spinner {\n    border: 2px solid var(--fill-color);\n    border-color: transparent;\n    border-bottom-color: var(--fill-color);\n    animation:\n      spin 1s steps(1) infinite;\n  }\n\n  @keyframes spin {\n    0% {\n      border-color: transparent;\n      border-bottom-color: var(--fill-color);\n      border-left-color: var(--fill-color);\n    }\n    20% {\n      border-color: transparent;\n      border-left-color: var(--fill-color);\n      border-top-color: var(--fill-color);\n    }\n    30% {\n      border-color: transparent;\n      border-left-color: var(--fill-color);\n      border-top-color: var(--fill-color);\n      border-right-color: var(--fill-color);\n    }\n    40% {\n      border-color: transparent;\n      border-right-color: var(--fill-color);\n      border-top-color: var(--fill-color);\n    }\n    60% {\n      border-color: transparent;\n      border-right-color: var(--fill-color);\n    }\n    80% {\n      border-color: transparent;\n      border-right-color: var(--fill-color);\n      border-bottom-color: var(--fill-color);\n    }\n    90% {\n      border-color: transparent;\n      border-bottom-color: var(--fill-color);\n    }\n  }\n</style>\n\n  <script>\n    async function quickchart(key) {\n      const quickchartButtonEl =\n        document.querySelector('#' + key + ' button');\n      quickchartButtonEl.disabled = true;  // To prevent multiple clicks.\n      quickchartButtonEl.classList.add('colab-df-spinner');\n      try {\n        const charts = await google.colab.kernel.invokeFunction(\n            'suggestCharts', [key], {});\n      } catch (error) {\n        console.error('Error during call to suggestCharts:', error);\n      }\n      quickchartButtonEl.classList.remove('colab-df-spinner');\n      quickchartButtonEl.classList.add('colab-df-quickchart-complete');\n    }\n    (() => {\n      let quickchartButtonEl =\n        document.querySelector('#df-f0d699ed-7ba1-4dcc-bc45-3bc6bac75c09 button');\n      quickchartButtonEl.style.display =\n        google.colab.kernel.accessAllowed ? 'block' : 'none';\n    })();\n  </script>\n</div>\n    </div>\n  </div>\n"
                },
                "metadata": {}
              },
              {
                "output_type": "stream",
                "name": "stderr",
                "text": [
                  "WARNING:matplotlib.font_manager:findfont: Font family 'Franklin Gothic Medium' not found.\n"
                ]
              },
              {
                "output_type": "stream",
                "name": "stderr",
                "text": [
                  "WARNING:matplotlib.font_manager:findfont: Font family 'Franklin Gothic Medium' not found.\n"
                ]
              },
              {
                "output_type": "stream",
                "name": "stderr",
                "text": [
                  "WARNING:matplotlib.font_manager:findfont: Font family 'Franklin Gothic Medium' not found.\n"
                ]
              },
              {
                "output_type": "stream",
                "name": "stderr",
                "text": [
                  "WARNING:matplotlib.font_manager:findfont: Font family 'Franklin Gothic Medium' not found.\n"
                ]
              },
              {
                "output_type": "stream",
                "name": "stderr",
                "text": [
                  "WARNING:matplotlib.font_manager:findfont: Font family 'Franklin Gothic Medium' not found.\n"
                ]
              },
              {
                "output_type": "display_data",
                "data": {
                  "text/plain": "<Figure size 1000x600 with 1 Axes>",
                  "image/png": "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\n"
                },
                "metadata": {}
              }
            ]
          }
        },
        "4e557faaf4284d43bcca451963989482": {
          "model_module": "@jupyter-widgets/base",
          "model_name": "LayoutModel",
          "model_module_version": "1.2.0",
          "state": {
            "_model_module": "@jupyter-widgets/base",
            "_model_module_version": "1.2.0",
            "_model_name": "LayoutModel",
            "_view_count": null,
            "_view_module": "@jupyter-widgets/base",
            "_view_module_version": "1.2.0",
            "_view_name": "LayoutView",
            "align_content": null,
            "align_items": null,
            "align_self": null,
            "border": null,
            "bottom": null,
            "display": null,
            "flex": null,
            "flex_flow": null,
            "grid_area": null,
            "grid_auto_columns": null,
            "grid_auto_flow": null,
            "grid_auto_rows": null,
            "grid_column": null,
            "grid_gap": null,
            "grid_row": null,
            "grid_template_areas": null,
            "grid_template_columns": null,
            "grid_template_rows": null,
            "height": null,
            "justify_content": null,
            "justify_items": null,
            "left": null,
            "margin": null,
            "max_height": null,
            "max_width": null,
            "min_height": null,
            "min_width": null,
            "object_fit": null,
            "object_position": null,
            "order": null,
            "overflow": null,
            "overflow_x": null,
            "overflow_y": null,
            "padding": null,
            "right": null,
            "top": null,
            "visibility": null,
            "width": null
          }
        },
        "ac6d0df90e2141be889f7999b95c50fe": {
          "model_module": "@jupyter-widgets/controls",
          "model_name": "IntTextModel",
          "model_module_version": "1.5.0",
          "state": {
            "_dom_classes": [],
            "_model_module": "@jupyter-widgets/controls",
            "_model_module_version": "1.5.0",
            "_model_name": "IntTextModel",
            "_view_count": null,
            "_view_module": "@jupyter-widgets/controls",
            "_view_module_version": "1.5.0",
            "_view_name": "IntTextView",
            "continuous_update": false,
            "description": "Wavelength (nm):",
            "description_tooltip": null,
            "disabled": false,
            "layout": "IPY_MODEL_9b86a53b0db142e1ba1f5f19b4b0458a",
            "step": 1,
            "style": "IPY_MODEL_797e168665fd43ee972f4db764781c82",
            "value": 650
          }
        },
        "6a4bce872707448aaea2a3fca1d8aa28": {
          "model_module": "@jupyter-widgets/base",
          "model_name": "LayoutModel",
          "model_module_version": "1.2.0",
          "state": {
            "_model_module": "@jupyter-widgets/base",
            "_model_module_version": "1.2.0",
            "_model_name": "LayoutModel",
            "_view_count": null,
            "_view_module": "@jupyter-widgets/base",
            "_view_module_version": "1.2.0",
            "_view_name": "LayoutView",
            "align_content": null,
            "align_items": null,
            "align_self": null,
            "border": null,
            "bottom": null,
            "display": null,
            "flex": null,
            "flex_flow": null,
            "grid_area": null,
            "grid_auto_columns": null,
            "grid_auto_flow": null,
            "grid_auto_rows": null,
            "grid_column": null,
            "grid_gap": null,
            "grid_row": null,
            "grid_template_areas": null,
            "grid_template_columns": null,
            "grid_template_rows": null,
            "height": null,
            "justify_content": null,
            "justify_items": null,
            "left": null,
            "margin": null,
            "max_height": null,
            "max_width": null,
            "min_height": null,
            "min_width": null,
            "object_fit": null,
            "object_position": null,
            "order": null,
            "overflow": null,
            "overflow_x": null,
            "overflow_y": null,
            "padding": null,
            "right": null,
            "top": null,
            "visibility": null,
            "width": null
          }
        },
        "2d33817008314021b46eef63c6f1a6b0": {
          "model_module": "@jupyter-widgets/controls",
          "model_name": "FloatTextModel",
          "model_module_version": "1.5.0",
          "state": {
            "_dom_classes": [],
            "_model_module": "@jupyter-widgets/controls",
            "_model_module_version": "1.5.0",
            "_model_name": "FloatTextModel",
            "_view_count": null,
            "_view_module": "@jupyter-widgets/controls",
            "_view_module_version": "1.5.0",
            "_view_name": "FloatTextView",
            "continuous_update": false,
            "description": "Intensity (W/m²):",
            "description_tooltip": null,
            "disabled": false,
            "layout": "IPY_MODEL_9235a5aec3454cb0aa4b250e6d9df349",
            "step": null,
            "style": "IPY_MODEL_755181a98bba4952b56066c6c95f1d8e",
            "value": 1
          }
        },
        "99fbc5cf93c94ea4affa8a309ba60f69": {
          "model_module": "@jupyter-widgets/base",
          "model_name": "LayoutModel",
          "model_module_version": "1.2.0",
          "state": {
            "_model_module": "@jupyter-widgets/base",
            "_model_module_version": "1.2.0",
            "_model_name": "LayoutModel",
            "_view_count": null,
            "_view_module": "@jupyter-widgets/base",
            "_view_module_version": "1.2.0",
            "_view_name": "LayoutView",
            "align_content": null,
            "align_items": null,
            "align_self": null,
            "border": null,
            "bottom": null,
            "display": null,
            "flex": null,
            "flex_flow": null,
            "grid_area": null,
            "grid_auto_columns": null,
            "grid_auto_flow": null,
            "grid_auto_rows": null,
            "grid_column": null,
            "grid_gap": null,
            "grid_row": null,
            "grid_template_areas": null,
            "grid_template_columns": null,
            "grid_template_rows": null,
            "height": null,
            "justify_content": null,
            "justify_items": null,
            "left": null,
            "margin": null,
            "max_height": null,
            "max_width": null,
            "min_height": null,
            "min_width": null,
            "object_fit": null,
            "object_position": null,
            "order": null,
            "overflow": null,
            "overflow_x": null,
            "overflow_y": null,
            "padding": null,
            "right": null,
            "top": null,
            "visibility": null,
            "width": null
          }
        },
        "e17eb0862b6f49208cd7611d41b06e37": {
          "model_module": "@jupyter-widgets/controls",
          "model_name": "FloatSliderModel",
          "model_module_version": "1.5.0",
          "state": {
            "_dom_classes": [],
            "_model_module": "@jupyter-widgets/controls",
            "_model_module_version": "1.5.0",
            "_model_name": "FloatSliderModel",
            "_view_count": null,
            "_view_module": "@jupyter-widgets/controls",
            "_view_module_version": "1.5.0",
            "_view_name": "FloatSliderView",
            "continuous_update": true,
            "description": "Particle Radius (μm):",
            "description_tooltip": null,
            "disabled": false,
            "layout": "IPY_MODEL_502338636d714e98a65a1eee6ba5d978",
            "max": 1,
            "min": 0,
            "orientation": "horizontal",
            "readout": true,
            "readout_format": ".2f",
            "step": 0.01,
            "style": "IPY_MODEL_0eda23ab733f40b2aa4965811ac1bbd1",
            "value": 0.01
          }
        },
        "db17c8a1477a4841992a18b6362c1a86": {
          "model_module": "@jupyter-widgets/base",
          "model_name": "LayoutModel",
          "model_module_version": "1.2.0",
          "state": {
            "_model_module": "@jupyter-widgets/base",
            "_model_module_version": "1.2.0",
            "_model_name": "LayoutModel",
            "_view_count": null,
            "_view_module": "@jupyter-widgets/base",
            "_view_module_version": "1.2.0",
            "_view_name": "LayoutView",
            "align_content": null,
            "align_items": null,
            "align_self": null,
            "border": null,
            "bottom": null,
            "display": null,
            "flex": null,
            "flex_flow": null,
            "grid_area": null,
            "grid_auto_columns": null,
            "grid_auto_flow": null,
            "grid_auto_rows": null,
            "grid_column": null,
            "grid_gap": null,
            "grid_row": null,
            "grid_template_areas": null,
            "grid_template_columns": null,
            "grid_template_rows": null,
            "height": null,
            "justify_content": null,
            "justify_items": null,
            "left": null,
            "margin": null,
            "max_height": null,
            "max_width": null,
            "min_height": null,
            "min_width": null,
            "object_fit": null,
            "object_position": null,
            "order": null,
            "overflow": null,
            "overflow_x": null,
            "overflow_y": null,
            "padding": null,
            "right": null,
            "top": null,
            "visibility": null,
            "width": null
          }
        },
        "3d1a88e0b6904e9e88674f4841ced697": {
          "model_module": "@jupyter-widgets/controls",
          "model_name": "FloatTextModel",
          "model_module_version": "1.5.0",
          "state": {
            "_dom_classes": [],
            "_model_module": "@jupyter-widgets/controls",
            "_model_module_version": "1.5.0",
            "_model_name": "FloatTextModel",
            "_view_count": null,
            "_view_module": "@jupyter-widgets/controls",
            "_view_module_version": "1.5.0",
            "_view_name": "FloatTextView",
            "continuous_update": false,
            "description": "Refractive Index:",
            "description_tooltip": null,
            "disabled": false,
            "layout": "IPY_MODEL_fcaf89656c424a1ba65eacd2f4f0f094",
            "step": null,
            "style": "IPY_MODEL_ba3208bbf97f440b9892f8958350325d",
            "value": 1.33257
          }
        },
        "7bccba4344f340eb83555d459f18d217": {
          "model_module": "@jupyter-widgets/base",
          "model_name": "LayoutModel",
          "model_module_version": "1.2.0",
          "state": {
            "_model_module": "@jupyter-widgets/base",
            "_model_module_version": "1.2.0",
            "_model_name": "LayoutModel",
            "_view_count": null,
            "_view_module": "@jupyter-widgets/base",
            "_view_module_version": "1.2.0",
            "_view_name": "LayoutView",
            "align_content": null,
            "align_items": null,
            "align_self": null,
            "border": null,
            "bottom": null,
            "display": null,
            "flex": null,
            "flex_flow": null,
            "grid_area": null,
            "grid_auto_columns": null,
            "grid_auto_flow": null,
            "grid_auto_rows": null,
            "grid_column": null,
            "grid_gap": null,
            "grid_row": null,
            "grid_template_areas": null,
            "grid_template_columns": null,
            "grid_template_rows": null,
            "height": null,
            "justify_content": null,
            "justify_items": null,
            "left": null,
            "margin": null,
            "max_height": null,
            "max_width": null,
            "min_height": null,
            "min_width": null,
            "object_fit": null,
            "object_position": null,
            "order": null,
            "overflow": null,
            "overflow_x": null,
            "overflow_y": null,
            "padding": null,
            "right": null,
            "top": null,
            "visibility": null,
            "width": null
          }
        },
        "ed6b789674c541b1b24711293f52f84a": {
          "model_module": "@jupyter-widgets/controls",
          "model_name": "FloatTextModel",
          "model_module_version": "1.5.0",
          "state": {
            "_dom_classes": [],
            "_model_module": "@jupyter-widgets/controls",
            "_model_module_version": "1.5.0",
            "_model_name": "FloatTextModel",
            "_view_count": null,
            "_view_module": "@jupyter-widgets/controls",
            "_view_module_version": "1.5.0",
            "_view_name": "FloatTextView",
            "continuous_update": false,
            "description": "Observer Distance (m):",
            "description_tooltip": null,
            "disabled": false,
            "layout": "IPY_MODEL_863c7358ac7545d2868f82aab7d2d93f",
            "step": null,
            "style": "IPY_MODEL_ee0a889d926847d1837cd7ff5b6812f4",
            "value": 1
          }
        },
        "984d9bf670f044f2be7d3466f49e3cd9": {
          "model_module": "@jupyter-widgets/base",
          "model_name": "LayoutModel",
          "model_module_version": "1.2.0",
          "state": {
            "_model_module": "@jupyter-widgets/base",
            "_model_module_version": "1.2.0",
            "_model_name": "LayoutModel",
            "_view_count": null,
            "_view_module": "@jupyter-widgets/base",
            "_view_module_version": "1.2.0",
            "_view_name": "LayoutView",
            "align_content": null,
            "align_items": null,
            "align_self": null,
            "border": null,
            "bottom": null,
            "display": null,
            "flex": null,
            "flex_flow": null,
            "grid_area": null,
            "grid_auto_columns": null,
            "grid_auto_flow": null,
            "grid_auto_rows": null,
            "grid_column": null,
            "grid_gap": null,
            "grid_row": null,
            "grid_template_areas": null,
            "grid_template_columns": null,
            "grid_template_rows": null,
            "height": null,
            "justify_content": null,
            "justify_items": null,
            "left": null,
            "margin": null,
            "max_height": null,
            "max_width": null,
            "min_height": null,
            "min_width": null,
            "object_fit": null,
            "object_position": null,
            "order": null,
            "overflow": null,
            "overflow_x": null,
            "overflow_y": null,
            "padding": null,
            "right": null,
            "top": null,
            "visibility": null,
            "width": null
          }
        },
        "2034803171e74fdca36d3086316e3e80": {
          "model_module": "@jupyter-widgets/base",
          "model_name": "LayoutModel",
          "model_module_version": "1.2.0",
          "state": {
            "_model_module": "@jupyter-widgets/base",
            "_model_module_version": "1.2.0",
            "_model_name": "LayoutModel",
            "_view_count": null,
            "_view_module": "@jupyter-widgets/base",
            "_view_module_version": "1.2.0",
            "_view_name": "LayoutView",
            "align_content": null,
            "align_items": null,
            "align_self": null,
            "border": null,
            "bottom": null,
            "display": null,
            "flex": null,
            "flex_flow": null,
            "grid_area": null,
            "grid_auto_columns": null,
            "grid_auto_flow": null,
            "grid_auto_rows": null,
            "grid_column": null,
            "grid_gap": null,
            "grid_row": null,
            "grid_template_areas": null,
            "grid_template_columns": null,
            "grid_template_rows": null,
            "height": null,
            "justify_content": null,
            "justify_items": null,
            "left": null,
            "margin": null,
            "max_height": null,
            "max_width": null,
            "min_height": null,
            "min_width": null,
            "object_fit": null,
            "object_position": null,
            "order": null,
            "overflow": null,
            "overflow_x": null,
            "overflow_y": null,
            "padding": null,
            "right": null,
            "top": null,
            "visibility": null,
            "width": null
          }
        },
        "3300c455f2e24e578a52d50080fb668a": {
          "model_module": "@jupyter-widgets/controls",
          "model_name": "ButtonStyleModel",
          "model_module_version": "1.5.0",
          "state": {
            "_model_module": "@jupyter-widgets/controls",
            "_model_module_version": "1.5.0",
            "_model_name": "ButtonStyleModel",
            "_view_count": null,
            "_view_module": "@jupyter-widgets/base",
            "_view_module_version": "1.2.0",
            "_view_name": "StyleView",
            "button_color": null,
            "font_weight": ""
          }
        },
        "9b86a53b0db142e1ba1f5f19b4b0458a": {
          "model_module": "@jupyter-widgets/base",
          "model_name": "LayoutModel",
          "model_module_version": "1.2.0",
          "state": {
            "_model_module": "@jupyter-widgets/base",
            "_model_module_version": "1.2.0",
            "_model_name": "LayoutModel",
            "_view_count": null,
            "_view_module": "@jupyter-widgets/base",
            "_view_module_version": "1.2.0",
            "_view_name": "LayoutView",
            "align_content": null,
            "align_items": null,
            "align_self": null,
            "border": null,
            "bottom": null,
            "display": null,
            "flex": null,
            "flex_flow": null,
            "grid_area": null,
            "grid_auto_columns": null,
            "grid_auto_flow": null,
            "grid_auto_rows": null,
            "grid_column": null,
            "grid_gap": null,
            "grid_row": null,
            "grid_template_areas": null,
            "grid_template_columns": null,
            "grid_template_rows": null,
            "height": null,
            "justify_content": null,
            "justify_items": null,
            "left": null,
            "margin": null,
            "max_height": null,
            "max_width": null,
            "min_height": null,
            "min_width": null,
            "object_fit": null,
            "object_position": null,
            "order": null,
            "overflow": null,
            "overflow_x": null,
            "overflow_y": null,
            "padding": null,
            "right": null,
            "top": null,
            "visibility": null,
            "width": null
          }
        },
        "797e168665fd43ee972f4db764781c82": {
          "model_module": "@jupyter-widgets/controls",
          "model_name": "DescriptionStyleModel",
          "model_module_version": "1.5.0",
          "state": {
            "_model_module": "@jupyter-widgets/controls",
            "_model_module_version": "1.5.0",
            "_model_name": "DescriptionStyleModel",
            "_view_count": null,
            "_view_module": "@jupyter-widgets/base",
            "_view_module_version": "1.2.0",
            "_view_name": "StyleView",
            "description_width": ""
          }
        },
        "9235a5aec3454cb0aa4b250e6d9df349": {
          "model_module": "@jupyter-widgets/base",
          "model_name": "LayoutModel",
          "model_module_version": "1.2.0",
          "state": {
            "_model_module": "@jupyter-widgets/base",
            "_model_module_version": "1.2.0",
            "_model_name": "LayoutModel",
            "_view_count": null,
            "_view_module": "@jupyter-widgets/base",
            "_view_module_version": "1.2.0",
            "_view_name": "LayoutView",
            "align_content": null,
            "align_items": null,
            "align_self": null,
            "border": null,
            "bottom": null,
            "display": null,
            "flex": null,
            "flex_flow": null,
            "grid_area": null,
            "grid_auto_columns": null,
            "grid_auto_flow": null,
            "grid_auto_rows": null,
            "grid_column": null,
            "grid_gap": null,
            "grid_row": null,
            "grid_template_areas": null,
            "grid_template_columns": null,
            "grid_template_rows": null,
            "height": null,
            "justify_content": null,
            "justify_items": null,
            "left": null,
            "margin": null,
            "max_height": null,
            "max_width": null,
            "min_height": null,
            "min_width": null,
            "object_fit": null,
            "object_position": null,
            "order": null,
            "overflow": null,
            "overflow_x": null,
            "overflow_y": null,
            "padding": null,
            "right": null,
            "top": null,
            "visibility": null,
            "width": null
          }
        },
        "755181a98bba4952b56066c6c95f1d8e": {
          "model_module": "@jupyter-widgets/controls",
          "model_name": "DescriptionStyleModel",
          "model_module_version": "1.5.0",
          "state": {
            "_model_module": "@jupyter-widgets/controls",
            "_model_module_version": "1.5.0",
            "_model_name": "DescriptionStyleModel",
            "_view_count": null,
            "_view_module": "@jupyter-widgets/base",
            "_view_module_version": "1.2.0",
            "_view_name": "StyleView",
            "description_width": ""
          }
        },
        "502338636d714e98a65a1eee6ba5d978": {
          "model_module": "@jupyter-widgets/base",
          "model_name": "LayoutModel",
          "model_module_version": "1.2.0",
          "state": {
            "_model_module": "@jupyter-widgets/base",
            "_model_module_version": "1.2.0",
            "_model_name": "LayoutModel",
            "_view_count": null,
            "_view_module": "@jupyter-widgets/base",
            "_view_module_version": "1.2.0",
            "_view_name": "LayoutView",
            "align_content": null,
            "align_items": null,
            "align_self": null,
            "border": null,
            "bottom": null,
            "display": null,
            "flex": null,
            "flex_flow": null,
            "grid_area": null,
            "grid_auto_columns": null,
            "grid_auto_flow": null,
            "grid_auto_rows": null,
            "grid_column": null,
            "grid_gap": null,
            "grid_row": null,
            "grid_template_areas": null,
            "grid_template_columns": null,
            "grid_template_rows": null,
            "height": null,
            "justify_content": null,
            "justify_items": null,
            "left": null,
            "margin": null,
            "max_height": null,
            "max_width": null,
            "min_height": null,
            "min_width": null,
            "object_fit": null,
            "object_position": null,
            "order": null,
            "overflow": null,
            "overflow_x": null,
            "overflow_y": null,
            "padding": null,
            "right": null,
            "top": null,
            "visibility": null,
            "width": null
          }
        },
        "0eda23ab733f40b2aa4965811ac1bbd1": {
          "model_module": "@jupyter-widgets/controls",
          "model_name": "SliderStyleModel",
          "model_module_version": "1.5.0",
          "state": {
            "_model_module": "@jupyter-widgets/controls",
            "_model_module_version": "1.5.0",
            "_model_name": "SliderStyleModel",
            "_view_count": null,
            "_view_module": "@jupyter-widgets/base",
            "_view_module_version": "1.2.0",
            "_view_name": "StyleView",
            "description_width": "",
            "handle_color": null
          }
        },
        "fcaf89656c424a1ba65eacd2f4f0f094": {
          "model_module": "@jupyter-widgets/base",
          "model_name": "LayoutModel",
          "model_module_version": "1.2.0",
          "state": {
            "_model_module": "@jupyter-widgets/base",
            "_model_module_version": "1.2.0",
            "_model_name": "LayoutModel",
            "_view_count": null,
            "_view_module": "@jupyter-widgets/base",
            "_view_module_version": "1.2.0",
            "_view_name": "LayoutView",
            "align_content": null,
            "align_items": null,
            "align_self": null,
            "border": null,
            "bottom": null,
            "display": null,
            "flex": null,
            "flex_flow": null,
            "grid_area": null,
            "grid_auto_columns": null,
            "grid_auto_flow": null,
            "grid_auto_rows": null,
            "grid_column": null,
            "grid_gap": null,
            "grid_row": null,
            "grid_template_areas": null,
            "grid_template_columns": null,
            "grid_template_rows": null,
            "height": null,
            "justify_content": null,
            "justify_items": null,
            "left": null,
            "margin": null,
            "max_height": null,
            "max_width": null,
            "min_height": null,
            "min_width": null,
            "object_fit": null,
            "object_position": null,
            "order": null,
            "overflow": null,
            "overflow_x": null,
            "overflow_y": null,
            "padding": null,
            "right": null,
            "top": null,
            "visibility": null,
            "width": null
          }
        },
        "ba3208bbf97f440b9892f8958350325d": {
          "model_module": "@jupyter-widgets/controls",
          "model_name": "DescriptionStyleModel",
          "model_module_version": "1.5.0",
          "state": {
            "_model_module": "@jupyter-widgets/controls",
            "_model_module_version": "1.5.0",
            "_model_name": "DescriptionStyleModel",
            "_view_count": null,
            "_view_module": "@jupyter-widgets/base",
            "_view_module_version": "1.2.0",
            "_view_name": "StyleView",
            "description_width": ""
          }
        },
        "863c7358ac7545d2868f82aab7d2d93f": {
          "model_module": "@jupyter-widgets/base",
          "model_name": "LayoutModel",
          "model_module_version": "1.2.0",
          "state": {
            "_model_module": "@jupyter-widgets/base",
            "_model_module_version": "1.2.0",
            "_model_name": "LayoutModel",
            "_view_count": null,
            "_view_module": "@jupyter-widgets/base",
            "_view_module_version": "1.2.0",
            "_view_name": "LayoutView",
            "align_content": null,
            "align_items": null,
            "align_self": null,
            "border": null,
            "bottom": null,
            "display": null,
            "flex": null,
            "flex_flow": null,
            "grid_area": null,
            "grid_auto_columns": null,
            "grid_auto_flow": null,
            "grid_auto_rows": null,
            "grid_column": null,
            "grid_gap": null,
            "grid_row": null,
            "grid_template_areas": null,
            "grid_template_columns": null,
            "grid_template_rows": null,
            "height": null,
            "justify_content": null,
            "justify_items": null,
            "left": null,
            "margin": null,
            "max_height": null,
            "max_width": null,
            "min_height": null,
            "min_width": null,
            "object_fit": null,
            "object_position": null,
            "order": null,
            "overflow": null,
            "overflow_x": null,
            "overflow_y": null,
            "padding": null,
            "right": null,
            "top": null,
            "visibility": null,
            "width": null
          }
        },
        "ee0a889d926847d1837cd7ff5b6812f4": {
          "model_module": "@jupyter-widgets/controls",
          "model_name": "DescriptionStyleModel",
          "model_module_version": "1.5.0",
          "state": {
            "_model_module": "@jupyter-widgets/controls",
            "_model_module_version": "1.5.0",
            "_model_name": "DescriptionStyleModel",
            "_view_count": null,
            "_view_module": "@jupyter-widgets/base",
            "_view_module_version": "1.2.0",
            "_view_name": "StyleView",
            "description_width": ""
          }
        },
        "132b45dd167b493a99b2f99d09c7d443": {
          "model_module": "@jupyter-widgets/base",
          "model_name": "LayoutModel",
          "model_module_version": "1.2.0",
          "state": {
            "_model_module": "@jupyter-widgets/base",
            "_model_module_version": "1.2.0",
            "_model_name": "LayoutModel",
            "_view_count": null,
            "_view_module": "@jupyter-widgets/base",
            "_view_module_version": "1.2.0",
            "_view_name": "LayoutView",
            "align_content": null,
            "align_items": null,
            "align_self": null,
            "border": null,
            "bottom": null,
            "display": null,
            "flex": null,
            "flex_flow": null,
            "grid_area": null,
            "grid_auto_columns": null,
            "grid_auto_flow": null,
            "grid_auto_rows": null,
            "grid_column": null,
            "grid_gap": null,
            "grid_row": null,
            "grid_template_areas": null,
            "grid_template_columns": null,
            "grid_template_rows": null,
            "height": null,
            "justify_content": null,
            "justify_items": null,
            "left": null,
            "margin": null,
            "max_height": null,
            "max_width": null,
            "min_height": null,
            "min_width": null,
            "object_fit": null,
            "object_position": null,
            "order": null,
            "overflow": null,
            "overflow_x": null,
            "overflow_y": null,
            "padding": null,
            "right": null,
            "top": null,
            "visibility": null,
            "width": null
          }
        }
      }
    }
  },
  "cells": [
    {
      "cell_type": "markdown",
      "source": [
        "*Importing all the libraries we will be using in our project*"
      ],
      "metadata": {
        "id": "JXeXKxBrcS52"
      }
    },
    {
      "cell_type": "code",
      "source": [
        "from sklearn.preprocessing import MinMaxScaler\n",
        "import pandas as pd\n",
        "from sklearn.model_selection import train_test_split\n",
        "import matplotlib.pyplot as plt\n",
        "from sklearn.gaussian_process import GaussianProcessRegressor\n",
        "from sklearn.gaussian_process.kernels import RBF, ConstantKernel as C\n",
        "import numpy as np\n",
        "import ipywidgets as widgets\n",
        "from IPython.display import display, clear_output"
      ],
      "metadata": {
        "id": "lrHbqwxxbkh2"
      },
      "execution_count": null,
      "outputs": []
    },
    {
      "cell_type": "markdown",
      "source": [
        "*Giving user the ability to create own dataset*"
      ],
      "metadata": {
        "id": "eHyTmDE0bux6"
      }
    },
    {
      "cell_type": "code",
      "execution_count": 6,
      "metadata": {
        "colab": {
          "base_uri": "https://localhost:8080/",
          "height": 1000,
          "referenced_widgets": [
            "ff54428a8f0847079662384bd1b65e3e",
            "66c181e01a1242399de09e9af8e504bf",
            "31026ca9976b44e285168620f049af73",
            "4db2c3e1483b48e2b2cab73f8435133b",
            "33b676fb3f8f4b5ba83ad4511493a702",
            "af0d6ab420d34cf29b94464b54ca6fd0",
            "dbf285dbc03649c483305c635c688708",
            "5a60d488075944d1a9cf3dc0db67d953",
            "4e557faaf4284d43bcca451963989482",
            "ac6d0df90e2141be889f7999b95c50fe",
            "6a4bce872707448aaea2a3fca1d8aa28",
            "2d33817008314021b46eef63c6f1a6b0",
            "99fbc5cf93c94ea4affa8a309ba60f69",
            "e17eb0862b6f49208cd7611d41b06e37",
            "db17c8a1477a4841992a18b6362c1a86",
            "3d1a88e0b6904e9e88674f4841ced697",
            "7bccba4344f340eb83555d459f18d217",
            "ed6b789674c541b1b24711293f52f84a",
            "984d9bf670f044f2be7d3466f49e3cd9",
            "2034803171e74fdca36d3086316e3e80",
            "3300c455f2e24e578a52d50080fb668a",
            "9b86a53b0db142e1ba1f5f19b4b0458a",
            "797e168665fd43ee972f4db764781c82",
            "9235a5aec3454cb0aa4b250e6d9df349",
            "755181a98bba4952b56066c6c95f1d8e",
            "502338636d714e98a65a1eee6ba5d978",
            "0eda23ab733f40b2aa4965811ac1bbd1",
            "fcaf89656c424a1ba65eacd2f4f0f094",
            "ba3208bbf97f440b9892f8958350325d",
            "863c7358ac7545d2868f82aab7d2d93f",
            "ee0a889d926847d1837cd7ff5b6812f4",
            "132b45dd167b493a99b2f99d09c7d443"
          ]
        },
        "id": "jcirZZLeW0wd",
        "outputId": "b7b31cee-111e-4ade-b416-db3baffc97b1"
      },
      "outputs": [
        {
          "output_type": "display_data",
          "data": {
            "text/plain": [
              "VBox(children=(Box(children=(IntText(value=650, description='Wavelength (nm):'),)), Box(children=(FloatText(va…"
            ],
            "application/vnd.jupyter.widget-view+json": {
              "version_major": 2,
              "version_minor": 0,
              "model_id": "ff54428a8f0847079662384bd1b65e3e"
            }
          },
          "metadata": {}
        }
      ],
      "source": [
        "#Our Custom Dataframe\n",
        "df=pd.DataFrame()\n",
        "# Function to calculate and display the results\n",
        "def calculate_and_display(lambda_nm, I_0, r, n, d):\n",
        "    # Convert wavelength from nanometers to meters\n",
        "    lambda_m = lambda_nm * 1e-9\n",
        "\n",
        "    # Condition for Rayleigh scattering:\n",
        "    if r >= lambda_m:\n",
        "        raise ValueError(\"Rayleigh scattering condition not satisfied.\\nRadius of particle r should not be greater than the wavelength of light λ\")\n",
        "\n",
        "    # Scattering angles in degrees (from 0 to 180 degrees) with a step size of 0.1\n",
        "    theta_degrees = np.arange(0, 180.1, 0.1)\n",
        "\n",
        "    # Convert scattering angles from degrees to radians\n",
        "    theta_radians = np.deg2rad(theta_degrees)\n",
        "\n",
        "    # Calculate the Rayleigh scattering intensity for each scattering angle\n",
        "    intensity_parallel = I_0*(16*np.pi**4 * r**6 / (lambda_m**4 * d**2)) * ((n**2 - 1) / (n**2 + 2))**2 * (np.cos(theta_radians))**2\n",
        "    intensity_perpendicular = I_0 * (16 * np.pi**4 * r**6 / (lambda_m**4 * d**2)) * ((n**2 - 1) / (n**2 + 2))**2\n",
        "    intensity_perpendicular = np.full_like(theta_degrees, intensity_perpendicular)\n",
        "\n",
        "    # Calculate unpolarized intensity as the average of parallel and perpendicular\n",
        "    intensity_unpolarized = (intensity_parallel + intensity_perpendicular) / 2\n",
        "\n",
        "    # Create a DataFrame\n",
        "    df1 = pd.DataFrame({\n",
        "        'angle': theta_degrees,\n",
        "        'parallel': intensity_parallel,\n",
        "        'perpendicular': intensity_perpendicular,\n",
        "        'unpolarized': intensity_unpolarized\n",
        "    })\n",
        "    global df\n",
        "    df=df1.copy()\n",
        "    # Display the DataFrame\n",
        "    display(df)\n",
        "\n",
        "    # Plot the graph\n",
        "    plt.figure(figsize=(10, 6))\n",
        "    plt.style.use('ggplot')\n",
        "    plt.plot(theta_degrees, intensity_parallel, color='red', label='Parallel Polarization')\n",
        "    plt.plot(theta_degrees, intensity_perpendicular, color='red', linestyle='--', label='Perpendicular Polarization')\n",
        "    plt.plot(theta_degrees, intensity_unpolarized, color='blue', label='Unpolarized')\n",
        "    plt.xlabel('Scattering Angle (degrees)', color='black')\n",
        "    plt.ylabel('Intensity', color='black')\n",
        "    plt.xlim(0, 180)\n",
        "    plt.xticks(np.arange(0, 181, 30))\n",
        "    plt.title('Rayleigh Scattering Intensity vs Scattering Angle', fontweight='bold', fontname='Franklin Gothic Medium')\n",
        "\n",
        "    columnLabels = ['Input Parameters', 'Values']\n",
        "    tableValues = [['λ', f' {lambda_nm} nm'], ['Radius of particle(r)', f'{r*1e6} μm'], ['Ref. Index(n)', n],['Observer Distance', f'{d} m'], ['Incident Intensity I\\u2080', f'{I_0} (W/m\\u00B2)']]\n",
        "    my_table = plt.table(cellText=tableValues, colWidths=[0.17, 0.1], colLabels=columnLabels, loc='lower right')\n",
        "    plt.legend()\n",
        "    plt.grid(True, which='both', linestyle='--', linewidth=0.7)\n",
        "    plt.show()\n",
        "\n",
        "    return df\n",
        "\n",
        "# Create button to trigger update\n",
        "update_button = widgets.Button(description=\"Update Values\")\n",
        "output = widgets.Output()\n",
        "\n",
        "# Define the update function\n",
        "def update_values(_):\n",
        "    with output:\n",
        "        clear_output(wait=True)\n",
        "        lambda_nm_val = lambda_nm.value\n",
        "        I_0_val = I_0.value\n",
        "        r_val = r.value * 1e-6\n",
        "        n_val = n.value\n",
        "        d_val = d.value\n",
        "\n",
        "        result_df = calculate_and_display(lambda_nm_val, I_0_val, r_val, n_val, d_val)\n",
        "\n",
        "        # Now you can access 'result_df' outside this function\n",
        "\n",
        "# Set initial values\n",
        "lambda_nm = widgets.IntText(value=650, min=400, max=700, step=1, description='Wavelength (nm):')\n",
        "I_0 = widgets.FloatText(value=1, description='Intensity (W/m²):')\n",
        "r = widgets.FloatSlider(value=0.01, min=0, max=1, step=0.01, description='Particle Radius (μm):')\n",
        "n = widgets.FloatText(value=1.33257, description='Refractive Index:')\n",
        "d = widgets.FloatText(value=1, description='Observer Distance (m):')\n",
        "\n",
        "# Attach the update function to the button click event\n",
        "update_button.on_click(update_values)\n",
        "\n",
        "# Display widgets and button\n",
        "display(widgets.VBox([widgets.Box([lambda_nm]), widgets.Box([I_0]), widgets.Box([r]), widgets.Box([n]), widgets.Box([d]), update_button, output]))\n"
      ]
    },
    {
      "cell_type": "code",
      "source": [
        "df.shape"
      ],
      "metadata": {
        "colab": {
          "base_uri": "https://localhost:8080/"
        },
        "id": "j4U8LvLTX6lj",
        "outputId": "928a2935-97ee-4e77-d7db-1431c7cc6bcc"
      },
      "execution_count": 7,
      "outputs": [
        {
          "output_type": "execute_result",
          "data": {
            "text/plain": [
              "(1801, 4)"
            ]
          },
          "metadata": {},
          "execution_count": 7
        }
      ]
    },
    {
      "cell_type": "code",
      "source": [
        "#Splitting the data into training and testing in 80:20 ratio.\n",
        "X = df['angle']  # Features\n",
        "y = df['parallel']\n",
        "X=X.values\n",
        "y=y.values\n",
        "X_train, X_test, y_train, y_test = train_test_split(X, y, test_size=0.2, random_state=42)\n"
      ],
      "metadata": {
        "id": "c684jKJOYE48"
      },
      "execution_count": 8,
      "outputs": []
    },
    {
      "cell_type": "code",
      "source": [
        "plt.xlabel('Angle')\n",
        "plt.ylabel('Parallel Light Inensity')\n",
        "plt.scatter(X_train,y_train)\n",
        "plt.show()\n",
        "#Our dataset is not linear"
      ],
      "metadata": {
        "id": "Awqb7fjhcCHZ",
        "colab": {
          "base_uri": "https://localhost:8080/",
          "height": 469
        },
        "outputId": "8dc08dfc-307a-40cd-f85d-870eff9a1d00"
      },
      "execution_count": 9,
      "outputs": [
        {
          "output_type": "display_data",
          "data": {
            "text/plain": [
              "<Figure size 640x480 with 1 Axes>"
            ],
            "image/png": "[encoded data removed]"
          },
          "metadata": {}
        }
      ]
    },
    {
      "cell_type": "code",
      "source": [
        "#Implemented Gaussian processes for regression\n",
        "#As our data is not linear so we have used this gaussian process\n",
        "kernel = C(1.0, (1e-3, 1e3)) * RBF(1.0, (1e-2, 1e2))\n",
        "gp = GaussianProcessRegressor(kernel=kernel, n_restarts_optimizer=10)\n",
        "\n",
        "X_train = X_train.reshape(-1, 1)\n",
        "y_train = y_train.reshape(-1, 1)\n",
        "X_test = X_test.reshape(-1, 1)\n",
        "y_test = y_test.reshape(-1, 1)\n",
        "# Fit the model\n",
        "gp.fit(X_train, y_train)"
      ],
      "metadata": {
        "id": "WVmhp-GIcCgS",
        "colab": {
          "base_uri": "https://localhost:8080/",
          "height": 181
        },
        "outputId": "1a1fb1c4-3db0-4492-d0d0-c3bb76b872ac"
      },
      "execution_count": 10,
      "outputs": [
        {
          "output_type": "stream",
          "name": "stderr",
          "text": [
            "/usr/local/lib/python3.10/dist-packages/sklearn/gaussian_process/kernels.py:420: ConvergenceWarning: The optimal value found for dimension 0 of parameter k1__constant_value is close to the specified lower bound 0.001. Decreasing the bound and calling fit again may find a better value.\n",
            "  warnings.warn(\n",
            "/usr/local/lib/python3.10/dist-packages/sklearn/gaussian_process/kernels.py:430: ConvergenceWarning: The optimal value found for dimension 0 of parameter k2__length_scale is close to the specified upper bound 100.0. Increasing the bound and calling fit again may find a better value.\n",
            "  warnings.warn(\n"
          ]
        },
        {
          "output_type": "execute_result",
          "data": {
            "text/plain": [
              "GaussianProcessRegressor(kernel=1**2 * RBF(length_scale=1),\n",
              "                         n_restarts_optimizer=10)"
            ],
            "text/html": [
              "<style>#sk-container-id-1 {color: black;background-color: white;}#sk-container-id-1 pre{padding: 0;}#sk-container-id-1 div.sk-toggleable {background-color: white;}#sk-container-id-1 label.sk-toggleable__label {cursor: pointer;display: block;width: 100%;margin-bottom: 0;padding: 0.3em;box-sizing: border-box;text-align: center;}#sk-container-id-1 label.sk-toggleable__label-arrow:before {content: \"▸\";float: left;margin-right: 0.25em;color: #696969;}#sk-container-id-1 label.sk-toggleable__label-arrow:hover:before {color: black;}#sk-container-id-1 div.sk-estimator:hover label.sk-toggleable__label-arrow:before {color: black;}#sk-container-id-1 div.sk-toggleable__content {max-height: 0;max-width: 0;overflow: hidden;text-align: left;background-color: #f0f8ff;}#sk-container-id-1 div.sk-toggleable__content pre {margin: 0.2em;color: black;border-radius: 0.25em;background-color: #f0f8ff;}#sk-container-id-1 input.sk-toggleable__control:checked~div.sk-toggleable__content {max-height: 200px;max-width: 100%;overflow: auto;}#sk-container-id-1 input.sk-toggleable__control:checked~label.sk-toggleable__label-arrow:before {content: \"▾\";}#sk-container-id-1 div.sk-estimator input.sk-toggleable__control:checked~label.sk-toggleable__label {background-color: #d4ebff;}#sk-container-id-1 div.sk-label input.sk-toggleable__control:checked~label.sk-toggleable__label {background-color: #d4ebff;}#sk-container-id-1 input.sk-hidden--visually {border: 0;clip: rect(1px 1px 1px 1px);clip: rect(1px, 1px, 1px, 1px);height: 1px;margin: -1px;overflow: hidden;padding: 0;position: absolute;width: 1px;}#sk-container-id-1 div.sk-estimator {font-family: monospace;background-color: #f0f8ff;border: 1px dotted black;border-radius: 0.25em;box-sizing: border-box;margin-bottom: 0.5em;}#sk-container-id-1 div.sk-estimator:hover {background-color: #d4ebff;}#sk-container-id-1 div.sk-parallel-item::after {content: \"\";width: 100%;border-bottom: 1px solid gray;flex-grow: 1;}#sk-container-id-1 div.sk-label:hover label.sk-toggleable__label {background-color: #d4ebff;}#sk-container-id-1 div.sk-serial::before {content: \"\";position: absolute;border-left: 1px solid gray;box-sizing: border-box;top: 0;bottom: 0;left: 50%;z-index: 0;}#sk-container-id-1 div.sk-serial {display: flex;flex-direction: column;align-items: center;background-color: white;padding-right: 0.2em;padding-left: 0.2em;position: relative;}#sk-container-id-1 div.sk-item {position: relative;z-index: 1;}#sk-container-id-1 div.sk-parallel {display: flex;align-items: stretch;justify-content: center;background-color: white;position: relative;}#sk-container-id-1 div.sk-item::before, #sk-container-id-1 div.sk-parallel-item::before {content: \"\";position: absolute;border-left: 1px solid gray;box-sizing: border-box;top: 0;bottom: 0;left: 50%;z-index: -1;}#sk-container-id-1 div.sk-parallel-item {display: flex;flex-direction: column;z-index: 1;position: relative;background-color: white;}#sk-container-id-1 div.sk-parallel-item:first-child::after {align-self: flex-end;width: 50%;}#sk-container-id-1 div.sk-parallel-item:last-child::after {align-self: flex-start;width: 50%;}#sk-container-id-1 div.sk-parallel-item:only-child::after {width: 0;}#sk-container-id-1 div.sk-dashed-wrapped {border: 1px dashed gray;margin: 0 0.4em 0.5em 0.4em;box-sizing: border-box;padding-bottom: 0.4em;background-color: white;}#sk-container-id-1 div.sk-label label {font-family: monospace;font-weight: bold;display: inline-block;line-height: 1.2em;}#sk-container-id-1 div.sk-label-container {text-align: center;}#sk-container-id-1 div.sk-container {/* jupyter's `normalize.less` sets `[hidden] { display: none; }` but bootstrap.min.css set `[hidden] { display: none !important; }` so we also need the `!important` here to be able to override the default hidden behavior on the sphinx rendered scikit-learn.org. See: https://github.com/scikit-learn/scikit-learn/issues/21755 */display: inline-block !important;position: relative;}#sk-container-id-1 div.sk-text-repr-fallback {display: none;}</style><div id=\"sk-container-id-1\" class=\"sk-top-container\"><div class=\"sk-text-repr-fallback\"><pre>GaussianProcessRegressor(kernel=1**2 * RBF(length_scale=1),\n",
              "                         n_restarts_optimizer=10)</pre><b>In a Jupyter environment, please rerun this cell to show the HTML representation or trust the notebook. <br />On GitHub, the HTML representation is unable to render, please try loading this page with nbviewer.org.</b></div><div class=\"sk-container\" hidden><div class=\"sk-item\"><div class=\"sk-estimator sk-toggleable\"><input class=\"sk-toggleable__control sk-hidden--visually\" id=\"sk-estimator-id-1\" type=\"checkbox\" checked><label for=\"sk-estimator-id-1\" class=\"sk-toggleable__label sk-toggleable__label-arrow\">GaussianProcessRegressor</label><div class=\"sk-toggleable__content\"><pre>GaussianProcessRegressor(kernel=1**2 * RBF(length_scale=1),\n",
              "                         n_restarts_optimizer=10)</pre></div></div></div></div></div>"
            ]
          },
          "metadata": {},
          "execution_count": 10
        }
      ]
    },
    {
      "cell_type": "code",
      "source": [
        "# From Scratch Implementation\n",
        "# class GaussianProcessRegressor:\n",
        "#     def __init__(self, kernel, noise=1e-4):\n",
        "#         self.kernel = kernel\n",
        "#         self.noise = noise\n",
        "#         self.X_train = None\n",
        "#         self.y_train = None\n",
        "#         self.K = None\n",
        "#         self.K_inv = None\n",
        "\n",
        "#     def fit(self, X, y):\n",
        "#         self.X_train = X\n",
        "#         self.y_train = y\n",
        "#         self.K = self.kernel(X, X) + self.noise * np.eye(len(X))\n",
        "#         self.K_inv = np.linalg.inv(self.K)\n",
        "\n",
        "#     def predict(self, X_test):\n",
        "#         K_star = self.kernel(self.X_train, X_test)\n",
        "#         y_pred_mean = K_star.T @ np.linalg.solve(self.K, self.y_train)\n",
        "#         K_star_star = self.kernel(X_test, X_test)\n",
        "#         y_pred_cov = K_star_star - K_star.T @ np.linalg.solve(self.K, K_star)\n",
        "#         return y_pred_mean, np.sqrt(np.diag(y_pred_cov))\n",
        "\n",
        "# # Assuming you have X_train and y_train defined earlier\n",
        "# # Reshape the input arrays if needed\n",
        "# X_train = X_train.reshape(-1, 1)\n",
        "# y_train = y_train.reshape(-1, 1)\n",
        "\n",
        "# # Define and train Gaussian Process Regressor\n",
        "# kernel = lambda X1, X2: (1.0 * np.exp(-0.5 * (X1 - X2.T)**2 / 1.0**2))\n",
        "# gp = GaussianProcessRegressor(kernel=kernel, noise=1e-4)\n",
        "# gp.fit(X_train, y_train)\n"
      ],
      "metadata": {
        "id": "rXscckT6mceD"
      },
      "execution_count": 11,
      "outputs": []
    },
    {
      "cell_type": "code",
      "source": [
        "y_pred, sigma = gp.predict(X_test,return_std=True)"
      ],
      "metadata": {
        "id": "62JICo-tcvgC"
      },
      "execution_count": 12,
      "outputs": []
    },
    {
      "cell_type": "code",
      "source": [
        "from sklearn.metrics import r2_score\n",
        "#In regression problem we check r2 score for accuracy.\n",
        "r2 = r2_score(y_test, y_pred)\n",
        "print(f\"R-squared (R2) Score: {int(r2*100)} %\")\n"
      ],
      "metadata": {
        "id": "C5XoovjueQO9",
        "colab": {
          "base_uri": "https://localhost:8080/"
        },
        "outputId": "ee8b983d-7e15-4c28-fc39-56ff76b3859e"
      },
      "execution_count": 13,
      "outputs": [
        {
          "output_type": "stream",
          "name": "stdout",
          "text": [
            "R-squared (R2) Score: 99 %\n"
          ]
        }
      ]
    },
    {
      "cell_type": "code",
      "source": [
        "from sklearn.metrics import mean_squared_error\n",
        "mse = mean_squared_error(y_test, y_pred)\n",
        "print(f\"Mean Squared Error (MSE): {mse}\")\n",
        "#If you see the MSE the value is very less which is tending to zero."
      ],
      "metadata": {
        "id": "TvFO2L5WehYV",
        "colab": {
          "base_uri": "https://localhost:8080/"
        },
        "outputId": "c5b84f8f-76ad-4369-866a-b3a5c371e777"
      },
      "execution_count": 14,
      "outputs": [
        {
          "output_type": "stream",
          "name": "stdout",
          "text": [
            "Mean Squared Error (MSE): 7.305942161098764e-53\n"
          ]
        }
      ]
    },
    {
      "cell_type": "code",
      "source": [
        "custom_value = float(input(\"Enter the angle value \")) #Taking the custom value for prediction\n",
        "predicted_value =gp.predict([[custom_value]]) #Prediction for custom value\n",
        "print(f\"The predicted value of parallel Light intensity is : {predicted_value}\")"
      ],
      "metadata": {
        "id": "nhadSdHpeuwX",
        "colab": {
          "base_uri": "https://localhost:8080/"
        },
        "outputId": "4648b2bf-7a6b-4cc4-828f-e2f6f4e263c1"
      },
      "execution_count": 15,
      "outputs": [
        {
          "output_type": "stream",
          "name": "stdout",
          "text": [
            "Enter the angle value 12\n",
            "The predicted value of parallel Light intensity is : [3.52632126e-22]\n"
          ]
        }
      ]
    },
    {
      "cell_type": "code",
      "source": [
        "X"
      ],
      "metadata": {
        "id": "37He_n_pfoAb",
        "colab": {
          "base_uri": "https://localhost:8080/"
        },
        "outputId": "3b88f09c-edf0-4ded-cd33-973eecbc1f63"
      },
      "execution_count": 16,
      "outputs": [
        {
          "output_type": "execute_result",
          "data": {
            "text/plain": [
              "array([0.000e+00, 1.000e-01, 2.000e-01, ..., 1.798e+02, 1.799e+02,\n",
              "       1.800e+02])"
            ]
          },
          "metadata": {},
          "execution_count": 16
        }
      ]
    },
    {
      "cell_type": "markdown",
      "source": [
        "*Master Functions*"
      ],
      "metadata": {
        "id": "y24DuI7hfZIB"
      }
    },
    {
      "cell_type": "code",
      "source": [
        "l=X.shape[0]-1\n",
        "def slope(m,n):\n",
        "  xn = []\n",
        "  yn = []\n",
        "  sl=[]\n",
        "\n",
        "  for i in range(0,n+1):                                  # n number of divisons\n",
        "        index = int(((l / n) * i) +1)\n",
        "        if index==1801:\n",
        "          index=1800\n",
        "        xn.append(X[index])\n",
        "        yn.append(y[index])                              # x , y saved for those divisons\n",
        "\n",
        "  plt.plot(xn, yn, marker='s', linestyle='--')\n",
        "  for i in range(0,n):\n",
        "    sl.append((yn[i+1]-yn[i])/(xn[i+1]-xn[i]))           # slope\n",
        "  min=np.min(sl)\n",
        "  max=np.max(sl)\n",
        "  # print(max)\n",
        "  # print(min)\n",
        "  print( xn , yn)\n",
        "\n",
        "\n",
        "  if(m>min and m<max):\n",
        "     nl = np.abs(np.array(sl) - m)\n",
        "     minpos = np.argmin(nl)\n",
        "     print(\"-----------The slope for the various divisions in the graph are ------------- \\n\")\n",
        "     for i in sl:\n",
        "      print(i)\n",
        "     print(\"-----------The slope that matches the input in the graph are ------------- \\n\")\n",
        "     print(sl[minpos] , \" at position \", minpos+1)\n",
        "\n",
        "     plt.show()\n",
        "\n",
        "  else:\n",
        "    print(\"The slope you have enetered is not possible for given particle\\n\")\n",
        "\n",
        "def intensity(angle):\n",
        "  prdicted_value =gp.predict([[angle]])\n",
        "  return prdicted_value\n",
        "\n",
        "def slopeCompare():\n",
        "  n = int(input(\"Enter no. of divisions of graph \\n\"))\n",
        "  print(\"Select a mode: \\n1.Slope \\n2.Angle(single) \\n3.Angle(dual)\\n4.Slope(dual)\")\n",
        "  x = int(input(\"Enter mode (1,2,3,4):\\n\"))\n",
        "  if(x==1):\n",
        "    m = float(input(\"Enter slope: \\n\"))\n",
        "    slope(m,n)\n",
        "  elif(x==2):\n",
        "    angle = float(input(\"Enter angle: \\n\"))\n",
        "    m = (intensity(angle+0.001)-intensity(angle-0.001))/(0.002)\n",
        "    print(\"Slope we are looking for is : \",m)\n",
        "    slope(m,n)\n",
        "  elif(x==3):\n",
        "    angle1 = float(input(\"Enter larger angle: \\n\"))\n",
        "    angle2 = float(input(\"Enter smaller angle: \\n\"))\n",
        "    m = (intensity(angle1)-intensity(angle2))/(angle1-angle2)\n",
        "    print(\"Slope we are looking for is : \",m)\n",
        "    slope(m,n)\n",
        "  elif(x==4):\n",
        "    s1=float(input(\"enter slope 1: \\n\"))\n",
        "    s2=float(input(\"enter slope 2: \\n\"))\n",
        "    slope((s1+s2)/2,n)\n",
        "  else:\n",
        "    print(\"Please Check Input\")\n",
        "slopeCompare()"
      ],
      "metadata": {
        "id": "x3lk_re8fJAf",
        "colab": {
          "base_uri": "https://localhost:8080/",
          "height": 1000
        },
        "outputId": "3f5a90e0-1038-4449-d10b-0d3e9bdf5359"
      },
      "execution_count": 22,
      "outputs": [
        {
          "output_type": "stream",
          "name": "stdout",
          "text": [
            "Enter no. of divisions of graph \n",
            "30\n",
            "Select a mode: \n",
            "1.Slope \n",
            "2.Angle(single) \n",
            "3.Angle(dual)\n",
            "4.Slope(dual)\n",
            "Enter mode (1,2,3,4):\n",
            "3\n",
            "Enter larger angle: \n",
            "30\n",
            "Enter smaller angle: \n",
            "20\n",
            "Slope we are looking for is :  [-4.90359406e-24]\n",
            "[0.1, 6.1000000000000005, 12.100000000000001, 18.1, 24.1, 30.1, 36.1, 42.1, 48.1, 54.1, 60.1, 66.10000000000001, 72.10000000000001, 78.10000000000001, 84.10000000000001, 90.10000000000001, 96.10000000000001, 102.10000000000001, 108.10000000000001, 114.10000000000001, 120.10000000000001, 126.10000000000001, 132.1, 138.1, 144.1, 150.1, 156.10000000000002, 162.10000000000002, 168.10000000000002, 174.10000000000002, 180.0] [3.685491630407847e-22, 3.64388596401356e-22, 3.523562075616676e-22, 3.3297786965182166e-22, 3.0710050902606046e-22, 2.7585509051708264e-22, 2.4060718884588365e-22, 2.0289730645369239e-22, 1.6437354615313965e-22, 1.2671958112687132e-22, 9.158107033030587e-23, 6.049373529853544e-23, 3.48162417460325e-23, 1.5670819355325782e-23, 3.894214954818694e-24, 1.1226672309930221e-27, 4.161689306659712e-24, 1.6194078146348023e-23, 3.5572416056193996e-23, 6.144977668195531e-23, 9.269519519093301e-23, 1.2794309686213215e-22, 1.656529792543233e-22, 2.0417673955487584e-22, 2.418307045811443e-22, 2.769692153777098e-22, 3.080565504094803e-22, 3.337340439619832e-22, 3.5287946635268997e-22, 3.6465607075319703e-22, 3.685502857080157e-22]\n",
            "-----------The slope for the various divisions in the graph are ------------- \n",
            "\n",
            "-6.934277732381143e-25\n",
            "-2.0053981399480677e-24\n",
            "-3.2297229849743235e-24\n",
            "-4.312893437626867e-24\n",
            "-5.207569751496303e-24\n",
            "-5.8746502785331656e-24\n",
            "-6.284980398698544e-24\n",
            "-6.420626716758789e-24\n",
            "-6.2756608377113885e-24\n",
            "-5.856418466094243e-24\n",
            "-5.181222505295065e-24\n",
            "-4.2795822587504904e-24\n",
            "-3.190903731784453e-24\n",
            "-1.9627674000845143e-24\n",
            "-6.488487145979502e-25\n",
            "6.934277732381197e-25\n",
            "2.005398139948052e-24\n",
            "3.2297229849743286e-24\n",
            "4.312893437626885e-24\n",
            "5.207569751496284e-24\n",
            "5.874650278533191e-24\n",
            "6.2849803986985394e-24\n",
            "6.4206267167587576e-24\n",
            "6.2756608377114076e-24\n",
            "5.856418466094249e-24\n",
            "5.181222505295058e-24\n",
            "4.2795822587504875e-24\n",
            "3.1909037317844617e-24\n",
            "1.962767400084509e-24\n",
            "6.600364330201139e-25\n",
            "-----------The slope that matches the input in the graph are ------------- \n",
            "\n",
            "-5.181222505295065e-24  at position  11\n"
          ]
        },
        {
          "output_type": "display_data",
          "data": {
            "text/plain": [
              "<Figure size 640x480 with 1 Axes>"
            ],
            "image/png": "[encoded data removed]"
          },
          "metadata": {}
        }
      ]
    },
    {
      "cell_type": "code",
      "source": [
        "12171"
      ],
      "metadata": {
        "id": "OK8Dmso6fbrw",
        "colab": {
          "base_uri": "https://localhost:8080/"
        },
        "outputId": "5741f6f6-8a4e-402f-95a4-03ab56d4c658"
      },
      "execution_count": 18,
      "outputs": [
        {
          "output_type": "execute_result",
          "data": {
            "text/plain": [
              "12171"
            ]
          },
          "metadata": {},
          "execution_count": 18
        }
      ]
    },
    {
      "cell_type": "code",
      "source": [],
      "metadata": {
        "id": "GXo_WhOhsdmR"
      },
      "execution_count": null,
      "outputs": []
    }
  ]
}